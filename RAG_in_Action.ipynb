{
 "cells": [
  {
   "cell_type": "markdown",
   "id": "2ffe7545",
   "metadata": {},
   "source": [
    "\n",
    "\n",
    "### 🧵 **The Story of Laila and the Property AI Assistant at Nawy**\n",
    "\n",
    "Meet **Laila**, a Software engineer at **Nawy**, where teams are always looking for ways to make customer experience smarter and faster.\n",
    "\n",
    "One day, in a QBR , Her Tech Lead asks:\n",
    "\n",
    "> “We want an AI assistant that can answer any question — about our resale inventory, payment plans, developers, compounds, and legal steps — instantly and accurately.”\n",
    "\n",
    "Laila thinks, *\"Sounds like a job for a language model like ChatGPT!\"*\n",
    "\n",
    "So she tries it and she will use gemini for this."
   ]
  },
  {
   "cell_type": "code",
   "execution_count": null,
   "id": "65db2e6b",
   "metadata": {},
   "outputs": [],
   "source": [
    "pip install -r requirements.txt"
   ]
  },
  {
   "cell_type": "markdown",
   "id": "ebc005d6",
   "metadata": {},
   "source": [
    " **---> How to Get a Free Gemini API Key**\n",
    "\n",
    "1. **Go to**  \n",
    "   [https://aistudio.google.com/prompts/new_chat](https://aistudio.google.com/prompts/new_chat)\n",
    "\n",
    "2. **Sign in**  \n",
    "   Log in with your Google account.\n",
    "\n",
    "3. **Accept Terms**  \n",
    "   Agree to the Gemini API and Google APIs Terms of Service if prompted.\n",
    "\n",
    "4. **Get API Key**  \n",
    "   - Click **\"Get API key\"** (left sidebar or top of the page)  \n",
    "   - Then click **\"Create API key\"**\n",
    "\n",
    "5. **Copy the Key**  \n",
    "   A new API key will appear — copy and save it somewhere secure.  \n",
    "   *(You might not be able to view it again.)*"
   ]
  },
  {
   "cell_type": "code",
   "execution_count": 1,
   "id": "75c12541",
   "metadata": {},
   "outputs": [],
   "source": [
    "import os\n",
    "import getpass\n",
    "from langchain_google_genai import ChatGoogleGenerativeAI, GoogleGenerativeAIEmbeddings\n",
    "\n",
    "if not os.environ.get(\"GOOGLE_API_KEY\"):\n",
    "  os.environ[\"GOOGLE_API_KEY\"] = getpass.getpass(\"Enter API key for Google Gemini: \")"
   ]
  },
  {
   "cell_type": "code",
   "execution_count": null,
   "id": "6a0dc1ab",
   "metadata": {},
   "outputs": [],
   "source": [
    "llm = ChatGoogleGenerativeAI(model=\"gemini-1.5-flash\", temperature=0.2)"
   ]
  },
  {
   "cell_type": "code",
   "execution_count": 4,
   "id": "da1061ef",
   "metadata": {},
   "outputs": [
    {
     "name": "stdout",
     "output_type": "stream",
     "text": [
      "Gemini output:\n",
      " I do not have access to real-time information, including specific details about the amenities offered at individual gyms like Samia Allouba Gym.  To find out what amenities are available, I recommend checking these resources:\n",
      "\n",
      "* **The gym's website:**  Most gyms have a website listing their facilities and services.\n",
      "* **Their social media pages:** Look for Facebook, Instagram, or other social media profiles.  They often post photos and information about their amenities.\n",
      "* **Online reviews:** Check Google Maps, Yelp, or other review sites.  Previous customers often mention the amenities in their reviews.\n",
      "* **Contact the gym directly:** Call or email the gym to inquire about their facilities.\n",
      "\n",
      "\n",
      "This direct approach will give you the most accurate and up-to-date information.\n"
     ]
    }
   ],
   "source": [
    "resp = llm.invoke(\"what are the amenities in Samia Allouba Gym ?.\")\n",
    "print(\"Gemini output:\\n\", resp.content)"
   ]
  },
  {
   "cell_type": "markdown",
   "id": "b3f2cf39",
   "metadata": {},
   "source": [
    "\n",
    "\n",
    "## The First Attempt: Almost There\n",
    "\n",
    "The model responded with impressive confidence, delivering what seemed like helpful information. But upon closer inspection, there were problems:\n",
    "\n",
    "- **Inaccuracies crept in** — details that didn't match reality\n",
    "- **Fabricated information** — the model filled gaps with plausible-sounding but nonexistent facts  \n",
    "- **Generic responses** — broad, templated answers that could apply to any gym\n",
    "\n",
    "The root cause became clear: Gemini had no actual knowledge of these specific fitness centers.\n",
    "\n",
    "This led to a crucial realization:\n",
    "\n",
    "### 💡 \"The model is brilliant at reasoning — but it's working from imagination, not facts.\"\n",
    "\n",
    "Laila understood that raw intelligence wasn't enough. The model needed access to real, verified information about the gyms to provide truly valuable responses."
   ]
  },
  {
   "cell_type": "markdown",
   "id": "36837fcd",
   "metadata": {},
   "source": [
    "---"
   ]
  },
  {
   "cell_type": "markdown",
   "id": "06e17ffe",
   "metadata": {},
   "source": [
    "Then She Discovers RAG: Retrieval-Augmented Generation\n",
    "\n",
    "Imagine you hired a genius intern — but instead of memorizing every detail about Egypt’s real estate market, you tell them:\n",
    "\n",
    "> “Before you answer anything, go search our internal documents and database. Then write the answer using what you find.”\n",
    "\n",
    "That’s what RAG does."
   ]
  },
  {
   "cell_type": "code",
   "execution_count": 5,
   "id": "ea9ee657",
   "metadata": {},
   "outputs": [
    {
     "name": "stderr",
     "output_type": "stream",
     "text": [
      "USER_AGENT environment variable not set, consider setting it to identify your requests.\n"
     ]
    }
   ],
   "source": [
    "from langchain_community.document_loaders import WebBaseLoader\n",
    "loader = WebBaseLoader(\"https://www.nawy.com/blog/120092-best-gyms-in-egypt-east-west-cairo-north-coast-more\")"
   ]
  },
  {
   "cell_type": "code",
   "execution_count": 6,
   "id": "66ddcfdb",
   "metadata": {},
   "outputs": [],
   "source": [
    "docs = loader.load()"
   ]
  },
  {
   "cell_type": "code",
   "execution_count": 7,
   "id": "28022a9e",
   "metadata": {},
   "outputs": [],
   "source": [
    "from langchain_text_splitters import RecursiveCharacterTextSplitter\n",
    "text_splitter = RecursiveCharacterTextSplitter()\n",
    "documents = text_splitter.split_documents(docs)"
   ]
  },
  {
   "cell_type": "code",
   "execution_count": 8,
   "id": "265be4eb",
   "metadata": {},
   "outputs": [],
   "source": [
    "from langchain_community.vectorstores import FAISS\n",
    "embedding = GoogleGenerativeAIEmbeddings(model=\"models/embedding-001\")\n",
    "vector = FAISS.from_documents(documents, embedding)"
   ]
  },
  {
   "cell_type": "code",
   "execution_count": 9,
   "id": "ab3a38b3",
   "metadata": {},
   "outputs": [],
   "source": [
    "from langchain_core.prompts import ChatPromptTemplate\n",
    "prompt = ChatPromptTemplate.from_template(\"\"\"Answer the following question based only on the provided context:\n",
    "<context>\n",
    "{context}\n",
    "</context>\n",
    "Question: {input}\"\"\")"
   ]
  },
  {
   "cell_type": "code",
   "execution_count": 10,
   "id": "3eb0868a",
   "metadata": {},
   "outputs": [],
   "source": [
    "from langchain.chains.combine_documents import create_stuff_documents_chain\n",
    "document_chain = create_stuff_documents_chain(llm,prompt)"
   ]
  },
  {
   "cell_type": "code",
   "execution_count": 11,
   "id": "4dc22818",
   "metadata": {},
   "outputs": [],
   "source": [
    "retriever = vector.as_retriever()\n",
    "from langchain.chains import create_retrieval_chain\n",
    "retrieval_chain = create_retrieval_chain(retriever, document_chain)"
   ]
  },
  {
   "cell_type": "code",
   "execution_count": 12,
   "id": "4c38f4b2",
   "metadata": {},
   "outputs": [
    {
     "name": "stdout",
     "output_type": "stream",
     "text": [
      "Samia Allouba Gym, Dance, & Fitness Center offers aerobic, dancing, and Zumba classes; Pilates and yoga; a swimming pool, sauna, and jacuzzi; personal training; and nutrition counseling; and aqua aerobics.\n"
     ]
    }
   ],
   "source": [
    "response = retrieval_chain.invoke({\"input\":\"what are the amenities in Samia Allouba Gym ?\"})\n",
    "print (response[\"answer\"])"
   ]
  },
  {
   "cell_type": "markdown",
   "id": "3c2e7d2c",
   "metadata": {},
   "source": [
    "**No hallucinations. No retraining needed. Just smart answers pulled from the source.**"
   ]
  },
  {
   "cell_type": "markdown",
   "id": "ad45acbc",
   "metadata": {},
   "source": [
    "### ✅ Why Nawy Should Use RAG\n",
    "\n",
    "* **Fast updates**: Add or remove listings/docs anytime — no retraining needed\n",
    "* **Trustworthy answers**: Only responds with facts from Nawy’s actual data\n",
    "* **Scalable**: One system can serve agents, clients, support, and operations\n",
    "* **Explainable**: You can trace every answer back to its source"
   ]
  },
  {
   "cell_type": "markdown",
   "id": "b542a74c",
   "metadata": {},
   "source": [
    "---"
   ]
  },
  {
   "cell_type": "markdown",
   "id": "8b5af2b2",
   "metadata": {},
   "source": [
    "\n",
    "\n",
    "## The Memory Gap\n",
    "\n",
    "Laila decided to continue the conversation, adding a follow-up question that built on the previous exchange. But there was a problem:\n",
    "\n",
    "**The model had no memory of what came before.**\n",
    "\n",
    "Each new question was treated as if it were the very first interaction. Context was lost. The conversation became fragmented, with the model unable to maintain continuity or reference earlier points.\n",
    "\n",
    "This highlighted a fundamental limitation:\n",
    "\n",
    "### 🧠 \"Without memory, every interaction starts from zero.\"\n",
    "\n",
    "The solution? **Conversational memory** — giving the model the ability to retain and reference previous exchanges, creating truly coherent, contextual dialogues instead of isolated question-and-answer pairs.\n"
   ]
  },
  {
   "cell_type": "code",
   "execution_count": null,
   "id": "89e81c8b",
   "metadata": {},
   "outputs": [
    {
     "name": "stdout",
     "output_type": "stream",
     "text": [
      "This question cannot be answered from the given text alone.  The text provides a list of places, but doesn't specify a particular location to answer the question about.\n"
     ]
    }
   ],
   "source": [
    "response = retrieval_chain.invoke({\"input\":\"Why would yo\"})\n",
    "print (response[\"answer\"])"
   ]
  },
  {
   "cell_type": "code",
   "execution_count": null,
   "id": "b9a04871",
   "metadata": {},
   "outputs": [
    {
     "name": "stdout",
     "output_type": "stream",
     "text": [
      "Start chatting! (type 'exit' to quit)\n",
      "Bot: Samia Allouba Gym, Dance, & Fitness Center offers:\n",
      "\n",
      "*   Aerobic, dancing, and Zumba classes\n",
      "*   Pilates and yoga\n",
      "*   Swimming pool, sauna, and jacuzzi\n",
      "*   Personal training and nutrition counseling\n",
      "*   Aqua aerobics\n",
      "Bot: I do not have the address for Samia Allouba Gym.  My knowledge base does not contain that specific location information.  You could try searching online using a search engine like Google, Bing, or Maps, or checking social media pages for the gym.\n",
      "Bot: I don't have access to real-time information, including the precise location of businesses like Samia Allouba Gym. To find its location, I recommend searching online using a search engine like Google, Bing, or Maps, or checking the gym's social media pages (if they have any).\n",
      "Bot: I cannot confirm whether Samia Allouba Gym is located in Tagamo3. My knowledge base doesn't contain that specific location detail.  To verify, you should search online using a map service or check the gym's website or social media for their address.\n",
      "Bot: I wouldn't recommend Samia Allouba Gym to you without knowing your preferences and needs.  My previous responses were based on general information I found about the gym.  To recommend it, I'd need to know what kind of fitness activities you enjoy, your fitness goals, and what's important to you in a gym (e.g., location, price, equipment, classes).  If you tell me more about what you're looking for, I can give you a more informed recommendation.\n",
      "Bot: I do not have access to a comprehensive, constantly updated database of business locations.  Therefore, I cannot confirm whether Samia Allouba Gym has a branch in Americana Plaza.  To find out, I suggest checking the gym's official website or contacting them directly.  You could also try searching online maps for \"Samia Allouba Gym Americana Plaza\".\n"
     ]
    }
   ],
   "source": [
    "from langchain.prompts import ChatPromptTemplate, MessagesPlaceholder\n",
    "from langchain.chains.combine_documents.stuff import create_stuff_documents_chain\n",
    "from langchain.chains import create_retrieval_chain\n",
    "from langchain.memory import ChatMessageHistory\n",
    "from langchain_core.runnables.history import RunnableWithMessageHistory\n",
    "from langchain_core.chat_history import InMemoryChatMessageHistory\n",
    "\n",
    "# 1. Define prompt with chat history and context\n",
    "prompt = ChatPromptTemplate.from_messages([\n",
    "    (\"system\", \"Answer the user based on the following context: {context} and conversation history.\"),\n",
    "    MessagesPlaceholder(variable_name=\"chat_history\"),\n",
    "    (\"human\", \"{input}\")\n",
    "])\n",
    "\n",
    "# 2. Document chain (uses the prompt)\n",
    "document_chain = create_stuff_documents_chain(llm, prompt)\n",
    "\n",
    "# 3. Retriever\n",
    "retriever = vector.as_retriever()\n",
    "\n",
    "# 4. Retrieval chain (RAG)\n",
    "retrieval_chain = create_retrieval_chain(retriever, document_chain)\n",
    "\n",
    "\n",
    "chat_histories = {}\n",
    "\n",
    "# Function to get or create chat history for a session\n",
    "def get_session_history(session_id: str) -> InMemoryChatMessageHistory:\n",
    "    if session_id not in chat_histories:\n",
    "        chat_histories[session_id] = InMemoryChatMessageHistory()\n",
    "    return chat_histories[session_id]\n",
    "\n",
    "chain_with_history = RunnableWithMessageHistory(\n",
    "    retrieval_chain,\n",
    "    get_session_history,\n",
    "    input_messages_key=\"input\",\n",
    "    history_messages_key=\"chat_history\",\n",
    "    output_messages_key=\"answer\"\n",
    ")\n",
    "\n",
    "def chat_with_rag_and_memory(chain, session_id=\"default\"):\n",
    "    print(\"Start chatting! (type 'exit' to quit)\")\n",
    "    while True:\n",
    "        question = input(\"You: \")\n",
    "        if question.strip().lower() == \"exit\":\n",
    "            break\n",
    "        result = chain.invoke(\n",
    "            {\"input\": question},\n",
    "            config={\"configurable\": {\"session_id\": session_id}}\n",
    "        )\n",
    "        print(\"Bot:\", result[\"answer\"])\n",
    "\n",
    "chat_with_rag_and_memory(chain_with_history)"
   ]
  }
 ],
 "metadata": {
  "kernelspec": {
   "display_name": "Python 3",
   "language": "python",
   "name": "python3"
  },
  "language_info": {
   "codemirror_mode": {
    "name": "ipython",
    "version": 3
   },
   "file_extension": ".py",
   "mimetype": "text/x-python",
   "name": "python",
   "nbconvert_exporter": "python",
   "pygments_lexer": "ipython3",
   "version": "3.11.0"
  }
 },
 "nbformat": 4,
 "nbformat_minor": 5
}
